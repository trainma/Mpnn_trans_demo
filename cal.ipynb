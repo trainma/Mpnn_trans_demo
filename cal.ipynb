{
 "cells": [
  {
   "cell_type": "code",
   "execution_count": 13,
   "metadata": {
    "collapsed": true,
    "pycharm": {
     "name": "#%%\n"
    }
   },
   "outputs": [],
   "source": [
    "\n",
    "import numpy as np\n",
    "import pandas as pd\n",
    "from sklearn.preprocessing import MinMaxScaler\n",
    "from tqdm import tqdm"
   ]
  },
  {
   "cell_type": "code",
   "execution_count": 5,
   "outputs": [],
   "source": [
    "pred = np.load('TCNpred.npy')\n",
    "real = np.load('TCNtest.npy')"
   ],
   "metadata": {
    "collapsed": false,
    "pycharm": {
     "name": "#%%\n"
    }
   }
  },
  {
   "cell_type": "code",
   "execution_count": 4,
   "outputs": [
    {
     "data": {
      "text/plain": "(3422, 6, 12)"
     },
     "execution_count": 4,
     "metadata": {},
     "output_type": "execute_result"
    }
   ],
   "source": [
    "pred.shape"
   ],
   "metadata": {
    "collapsed": false,
    "pycharm": {
     "name": "#%%\n"
    }
   }
  },
  {
   "cell_type": "code",
   "execution_count": 7,
   "outputs": [],
   "source": [
    "def get_dataset_multi_step(Source, scope, train_test_split, window_size, n_out):\n",
    "    split = int(train_test_split * scope)\n",
    "    df = Source\n",
    "    scaler = MinMaxScaler()\n",
    "    data = scaler.fit_transform(df.values)\n",
    "    label_list = np.zeros(shape=(scope - window_size - n_out, n_out, df.shape[-1]))\n",
    "\n",
    "    for i in range(scope - window_size - n_out):\n",
    "        label_list[i, :] = data[i + window_size:i + window_size + n_out, :]\n",
    "\n",
    "    X = np.zeros(shape=(scope - window_size - n_out, window_size, data.shape[-1]))\n",
    "\n",
    "    for i in range(scope - window_size - n_out):\n",
    "        X[i, :] = data[i:i + window_size, :]\n",
    "\n",
    "    train_X = X[:split, :]\n",
    "    train_label = label_list[:split, :]\n",
    "    test_X = X[split:scope, :]\n",
    "    test_label = label_list[split:scope, :]\n",
    "    return train_X, train_label, test_X, test_label, scaler"
   ],
   "metadata": {
    "collapsed": false,
    "pycharm": {
     "name": "#%%\n"
    }
   }
  },
  {
   "cell_type": "code",
   "execution_count": 9,
   "outputs": [],
   "source": [
    "window_size = 72\n",
    "pred_len = 6\n",
    "df = pd.read_csv('./new.csv')\n",
    "df = df.drop(['Unnamed: 0', 'Time'], axis=1)\n",
    "feature_size = df.shape[1]\n",
    "Savepath = './new'\n",
    "train_X, train_label, test_X, test_label, scaler = get_dataset_multi_step(df, 35000, 0.9,\n",
    "                                                                          window_size=window_size,\n",
    "                                                                          n_out=pred_len)"
   ],
   "metadata": {
    "collapsed": false,
    "pycharm": {
     "name": "#%%\n"
    }
   }
  },
  {
   "cell_type": "code",
   "execution_count": 10,
   "outputs": [],
   "source": [
    "from utils.metrics import metric"
   ],
   "metadata": {
    "collapsed": false,
    "pycharm": {
     "name": "#%%\n"
    }
   }
  },
  {
   "cell_type": "code",
   "execution_count": 15,
   "outputs": [
    {
     "name": "stderr",
     "output_type": "stream",
     "text": [
      " 15%|█▌        | 515/3422 [00:00<00:01, 1698.92it/s]/home/Tabe/Documents/Pro/Mpnn_trans_demo/utils/metrics.py:41: RuntimeWarning: divide by zero encountered in true_divide\n",
      "  return SSReg / SST\n",
      "/home/Tabe/Documents/Pro/Mpnn_trans_demo/utils/metrics.py:41: RuntimeWarning: divide by zero encountered in true_divide\n",
      "  return SSReg / SST\n",
      "/home/Tabe/Documents/Pro/Mpnn_trans_demo/utils/metrics.py:41: RuntimeWarning: divide by zero encountered in true_divide\n",
      "  return SSReg / SST\n",
      "/home/Tabe/Documents/Pro/Mpnn_trans_demo/utils/metrics.py:41: RuntimeWarning: divide by zero encountered in true_divide\n",
      "  return SSReg / SST\n",
      "/home/Tabe/Documents/Pro/Mpnn_trans_demo/utils/metrics.py:41: RuntimeWarning: divide by zero encountered in true_divide\n",
      "  return SSReg / SST\n",
      "/home/Tabe/Documents/Pro/Mpnn_trans_demo/utils/metrics.py:41: RuntimeWarning: divide by zero encountered in true_divide\n",
      "  return SSReg / SST\n",
      "/home/Tabe/Documents/Pro/Mpnn_trans_demo/utils/metrics.py:41: RuntimeWarning: divide by zero encountered in true_divide\n",
      "  return SSReg / SST\n",
      "/home/Tabe/Documents/Pro/Mpnn_trans_demo/utils/metrics.py:41: RuntimeWarning: divide by zero encountered in true_divide\n",
      "  return SSReg / SST\n",
      "/home/Tabe/Documents/Pro/Mpnn_trans_demo/utils/metrics.py:41: RuntimeWarning: divide by zero encountered in true_divide\n",
      "  return SSReg / SST\n",
      "/home/Tabe/Documents/Pro/Mpnn_trans_demo/utils/metrics.py:41: RuntimeWarning: divide by zero encountered in true_divide\n",
      "  return SSReg / SST\n",
      " 83%|████████▎ | 2850/3422 [00:01<00:00, 1834.83it/s]/home/Tabe/Documents/Pro/Mpnn_trans_demo/utils/metrics.py:41: RuntimeWarning: divide by zero encountered in true_divide\n",
      "  return SSReg / SST\n",
      "/home/Tabe/Documents/Pro/Mpnn_trans_demo/utils/metrics.py:41: RuntimeWarning: divide by zero encountered in true_divide\n",
      "  return SSReg / SST\n",
      "100%|██████████| 3422/3422 [00:01<00:00, 1785.95it/s]\n"
     ]
    }
   ],
   "source": [
    "mae_list = []\n",
    "rmse_list = []\n",
    "for i in tqdm(range(pred.shape[0])):\n",
    "    pred_temp = pred[i, :, :]\n",
    "    real_temp = real[i, :, :]\n",
    "    inverse_pred = scaler.inverse_transform(pred_temp)\n",
    "    inverse_real = scaler.inverse_transform(real_temp)\n",
    "    mae, mse, rmse, mape, mspe = metric(inverse_pred, inverse_real)\n",
    "    mae_list.append(mae)\n",
    "    rmse_list.append(rmse)\n",
    "\n",
    "\n",
    "\n",
    "\n"
   ],
   "metadata": {
    "collapsed": false,
    "pycharm": {
     "name": "#%%\n"
    }
   }
  },
  {
   "cell_type": "code",
   "execution_count": 19,
   "outputs": [
    {
     "name": "stdout",
     "output_type": "stream",
     "text": [
      "27.716535107506086\n",
      "31.878084811877493\n"
     ]
    }
   ],
   "source": [
    "print(sum(mae_list) / len(mae_list))\n",
    "print(sum(rmse_list) / len(rmse_list))\n"
   ],
   "metadata": {
    "collapsed": false,
    "pycharm": {
     "name": "#%%\n"
    }
   }
  },
  {
   "cell_type": "code",
   "execution_count": null,
   "outputs": [],
   "source": [],
   "metadata": {
    "collapsed": false,
    "pycharm": {
     "name": "#%%\n"
    }
   }
  },
  {
   "cell_type": "code",
   "execution_count": null,
   "outputs": [],
   "source": [],
   "metadata": {
    "collapsed": false,
    "pycharm": {
     "name": "#%%\n"
    }
   }
  }
 ],
 "metadata": {
  "kernelspec": {
   "display_name": "Python 3",
   "language": "python",
   "name": "python3"
  },
  "language_info": {
   "codemirror_mode": {
    "name": "ipython",
    "version": 2
   },
   "file_extension": ".py",
   "mimetype": "text/x-python",
   "name": "python",
   "nbconvert_exporter": "python",
   "pygments_lexer": "ipython2",
   "version": "2.7.6"
  }
 },
 "nbformat": 4,
 "nbformat_minor": 0
}